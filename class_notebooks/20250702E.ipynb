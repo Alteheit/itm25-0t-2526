{
 "cells": [
  {
   "cell_type": "code",
   "execution_count": null,
   "id": "6662e68a-3747-4158-bb72-86797887d05a",
   "metadata": {},
   "outputs": [],
   "source": [
    "my_list = [1, 2, 3]\n",
    "my_dictionary = {\n",
    "    'one': 1,\n",
    "    'two': 2,\n",
    "    'three': 3,\n",
    "}"
   ]
  },
  {
   "cell_type": "code",
   "execution_count": 1,
   "id": "55c889e7-8e89-472b-a216-ee5242a4a47d",
   "metadata": {},
   "outputs": [
    {
     "data": {
      "text/plain": [
       "[1, 2, 3, 4, 5, 6, 7, 8, 9, 10]"
      ]
     },
     "execution_count": 1,
     "metadata": {},
     "output_type": "execute_result"
    }
   ],
   "source": [
    "# Mapping\n",
    "\n",
    "my_list = list(range(1, 11))\n",
    "\n",
    "my_list"
   ]
  },
  {
   "cell_type": "code",
   "execution_count": 2,
   "id": "798602d7-8c1b-4f3d-ad28-b901e3cc187c",
   "metadata": {},
   "outputs": [],
   "source": [
    "my_list_2 = []\n",
    "for number in my_list:\n",
    "    new_number = number * 33\n",
    "    my_list_2.append(new_number)"
   ]
  },
  {
   "cell_type": "code",
   "execution_count": 3,
   "id": "45bb9037-c92d-4ae3-a759-46d80104e355",
   "metadata": {},
   "outputs": [
    {
     "data": {
      "text/plain": [
       "[33, 66, 99, 132, 165, 198, 231, 264, 297, 330]"
      ]
     },
     "execution_count": 3,
     "metadata": {},
     "output_type": "execute_result"
    }
   ],
   "source": [
    "my_list_2"
   ]
  },
  {
   "cell_type": "code",
   "execution_count": 4,
   "id": "fb96346c-855b-499d-aa06-1f92cf243341",
   "metadata": {},
   "outputs": [],
   "source": [
    "def shift_letter(letter, shift):\n",
    "    '''Shift Letter. \n",
    "    5 points.\n",
    "    \n",
    "    Shift a letter right by the given number.\n",
    "    Wrap the letter around if it reaches the end of the alphabet.\n",
    "\n",
    "    Examples:\n",
    "    shift_letter(\"A\", 0) -> \"A\"\n",
    "    shift_letter(\"A\", 2) -> \"C\"\n",
    "    shift_letter(\"Z\", 1) -> \"A\"\n",
    "    shift_letter(\"X\", 5) -> \"C\"\n",
    "    shift_letter(\" \", _) -> \" \"\n",
    "\n",
    "    *Note: the single underscore `_` is used to acknowledge the presence\n",
    "        of a value without caring about its contents.\n",
    "\n",
    "    Parameters\n",
    "    ----------\n",
    "    letter: str\n",
    "        a single uppercase English letter, or a space.\n",
    "    shift: int\n",
    "        the number by which to shift the letter. \n",
    "\n",
    "    Returns\n",
    "    -------\n",
    "    str\n",
    "        the letter, shifted appropriately, if a letter.\n",
    "        a single space if the original letter was a space.\n",
    "    '''\n",
    "    # Replace `pass` with your code. \n",
    "    # Stay within the function. Only use the parameters as input. The function should return your answer.\n",
    "    if letter == ' ': return ' '\n",
    "    letter = ord(letter) - ord('A')\n",
    "    letter = letter + shift\n",
    "    letter = letter % 26\n",
    "    return chr(letter + ord('A'))"
   ]
  },
  {
   "cell_type": "code",
   "execution_count": 5,
   "id": "f6d0d9e5-9be5-4efc-abf6-44d8343e866d",
   "metadata": {},
   "outputs": [],
   "source": [
    "message = \"HELLO WORLD\"\n",
    "shift = 3\n",
    "\n",
    "new_message = \"\"\n",
    "\n",
    "for character in message:\n",
    "    new_message = new_message + shift_letter(character, shift)"
   ]
  },
  {
   "cell_type": "code",
   "execution_count": 6,
   "id": "fcfa60c3-2209-41e5-8d5f-2577172f57dc",
   "metadata": {},
   "outputs": [
    {
     "data": {
      "text/plain": [
       "'KHOOR ZRUOG'"
      ]
     },
     "execution_count": 6,
     "metadata": {},
     "output_type": "execute_result"
    }
   ],
   "source": [
    "new_message"
   ]
  },
  {
   "cell_type": "code",
   "execution_count": 8,
   "id": "24ec0a70-f551-4e50-8d42-4d5d46026dfe",
   "metadata": {},
   "outputs": [
    {
     "data": {
      "text/plain": [
       "[1, 2, 3, 4, 5, 6, 7, 8, 9, 10]"
      ]
     },
     "execution_count": 8,
     "metadata": {},
     "output_type": "execute_result"
    }
   ],
   "source": [
    "# Filtering\n",
    "\n",
    "my_list = list(range(1, 11))\n",
    "\n",
    "my_list"
   ]
  },
  {
   "cell_type": "code",
   "execution_count": 9,
   "id": "04956e72-b95b-4284-aa40-9649d59b1776",
   "metadata": {},
   "outputs": [],
   "source": [
    "# Retain the even numbers\n",
    "\n",
    "new_list = []\n",
    "\n",
    "for element in my_list:\n",
    "    if element % 2 == 0:\n",
    "        new_list.append(element)"
   ]
  },
  {
   "cell_type": "code",
   "execution_count": 10,
   "id": "de8aedc3-9fa4-4d25-814c-d2bef356a3ce",
   "metadata": {},
   "outputs": [
    {
     "data": {
      "text/plain": [
       "[2, 4, 6, 8, 10]"
      ]
     },
     "execution_count": 10,
     "metadata": {},
     "output_type": "execute_result"
    }
   ],
   "source": [
    "new_list"
   ]
  },
  {
   "cell_type": "code",
   "execution_count": 11,
   "id": "18689873-e0f4-49d2-b0ee-dbb00d71560a",
   "metadata": {},
   "outputs": [],
   "source": [
    "def is_even(x):\n",
    "    return x % 2 == 0\n",
    "\n",
    "new_list = []\n",
    "\n",
    "for element in my_list:\n",
    "    if is_even(element):\n",
    "        new_list.append(element)"
   ]
  },
  {
   "cell_type": "code",
   "execution_count": 12,
   "id": "a2be3b6e-6397-4d84-a7f8-194cc16058da",
   "metadata": {},
   "outputs": [
    {
     "data": {
      "text/plain": [
       "[2, 4, 6, 8, 10]"
      ]
     },
     "execution_count": 12,
     "metadata": {},
     "output_type": "execute_result"
    }
   ],
   "source": [
    "new_list"
   ]
  },
  {
   "cell_type": "code",
   "execution_count": 15,
   "id": "25e61ab7-cb6f-4d12-b2b8-13fe24106ab1",
   "metadata": {},
   "outputs": [
    {
     "data": {
      "text/plain": [
       "[33, 66, 99, 132, 165, 198, 231, 264, 297, 330]"
      ]
     },
     "execution_count": 15,
     "metadata": {},
     "output_type": "execute_result"
    }
   ],
   "source": [
    "# Higher-order function `map`\n",
    "\n",
    "my_list = list(range(1, 11))\n",
    "\n",
    "def multiply_by_33(x):\n",
    "    return x * 33\n",
    "\n",
    "list(map(multiply_by_33, my_list))"
   ]
  },
  {
   "cell_type": "code",
   "execution_count": 17,
   "id": "feb20553-3431-4eb5-b4b5-730cc8929844",
   "metadata": {},
   "outputs": [
    {
     "data": {
      "text/plain": [
       "[2, 4, 6, 8, 10]"
      ]
     },
     "execution_count": 17,
     "metadata": {},
     "output_type": "execute_result"
    }
   ],
   "source": [
    "# Higher-order function `filter`\n",
    "\n",
    "my_list = list(range(1, 11))\n",
    "\n",
    "def is_even(x):\n",
    "    return x % 2 == 0\n",
    "\n",
    "list(filter(is_even, my_list))"
   ]
  },
  {
   "cell_type": "code",
   "execution_count": 18,
   "id": "b6b020f9-f677-43a4-996a-a6db1062b4e8",
   "metadata": {},
   "outputs": [],
   "source": [
    "# Aggregation\n",
    "\n",
    "my_list = list(range(1, 11))\n",
    "\n",
    "# Add all the numbers in the collection together\n",
    "\n",
    "my_sum = 0\n",
    "for number in my_list:\n",
    "    my_sum = my_sum + number"
   ]
  },
  {
   "cell_type": "code",
   "execution_count": 19,
   "id": "77aab216-6d89-4b5c-b668-88d5c406bb52",
   "metadata": {},
   "outputs": [
    {
     "data": {
      "text/plain": [
       "55"
      ]
     },
     "execution_count": 19,
     "metadata": {},
     "output_type": "execute_result"
    }
   ],
   "source": [
    "my_sum"
   ]
  },
  {
   "cell_type": "code",
   "execution_count": 21,
   "id": "74f1564d-1408-4a1b-94e9-c4d4e8bae83a",
   "metadata": {},
   "outputs": [],
   "source": [
    "table_1 = [\n",
    "    ['item_sold', 'quantity'],\n",
    "    ['Chicken', 1],\n",
    "    ['Iced tea', 2],\n",
    "]\n",
    "\n",
    "table_2 = {\n",
    "    'item_sold': ['Chicken', 'Iced tea'],\n",
    "    'quantity': [1, 2],\n",
    "}\n",
    "\n",
    "table_3 = '''\n",
    "item_sold,quantity\n",
    "Chicken,1\n",
    "Iced tea,2\n",
    "'''\n",
    "\n",
    "table_4 = [\n",
    "    {'item_sold': 'Chicken', 'quantity': 1},\n",
    "    {'item_sold': 'Iced tea', 'quantity': 2},\n",
    "    {'item_sold': 'Milk tea', 'quantity': 1},\n",
    "    {'item_sold': 'Chicken', 'quantity': 3},\n",
    "    {'item_sold': 'Milk tea', 'quantity': 1},\n",
    "]"
   ]
  },
  {
   "cell_type": "code",
   "execution_count": 22,
   "id": "3c4997f1-f83d-439b-af65-b22a1609cebc",
   "metadata": {},
   "outputs": [],
   "source": [
    "milk_teas = 0\n",
    "for record in table_4:\n",
    "    if record['item_sold'] == 'Milk tea':\n",
    "        milk_teas = milk_teas + record['quantity']"
   ]
  },
  {
   "cell_type": "code",
   "execution_count": 23,
   "id": "2239e43f-5ba6-4548-a151-359e3b745c49",
   "metadata": {},
   "outputs": [
    {
     "data": {
      "text/plain": [
       "2"
      ]
     },
     "execution_count": 23,
     "metadata": {},
     "output_type": "execute_result"
    }
   ],
   "source": [
    "milk_teas"
   ]
  },
  {
   "cell_type": "code",
   "execution_count": 24,
   "id": "c3cd6c22-1c66-4f22-a270-fba95f43c693",
   "metadata": {},
   "outputs": [],
   "source": [
    "import pandas as pd\n",
    "\n",
    "dataframe = pd.DataFrame(table_4)"
   ]
  },
  {
   "cell_type": "code",
   "execution_count": 25,
   "id": "204d1989-0b53-4d5b-9f02-88499c9ac1ac",
   "metadata": {},
   "outputs": [
    {
     "data": {
      "text/html": [
       "<div>\n",
       "<style scoped>\n",
       "    .dataframe tbody tr th:only-of-type {\n",
       "        vertical-align: middle;\n",
       "    }\n",
       "\n",
       "    .dataframe tbody tr th {\n",
       "        vertical-align: top;\n",
       "    }\n",
       "\n",
       "    .dataframe thead th {\n",
       "        text-align: right;\n",
       "    }\n",
       "</style>\n",
       "<table border=\"1\" class=\"dataframe\">\n",
       "  <thead>\n",
       "    <tr style=\"text-align: right;\">\n",
       "      <th></th>\n",
       "      <th>item_sold</th>\n",
       "      <th>quantity</th>\n",
       "    </tr>\n",
       "  </thead>\n",
       "  <tbody>\n",
       "    <tr>\n",
       "      <th>0</th>\n",
       "      <td>Chicken</td>\n",
       "      <td>1</td>\n",
       "    </tr>\n",
       "    <tr>\n",
       "      <th>1</th>\n",
       "      <td>Iced tea</td>\n",
       "      <td>2</td>\n",
       "    </tr>\n",
       "    <tr>\n",
       "      <th>2</th>\n",
       "      <td>Milk tea</td>\n",
       "      <td>1</td>\n",
       "    </tr>\n",
       "    <tr>\n",
       "      <th>3</th>\n",
       "      <td>Chicken</td>\n",
       "      <td>3</td>\n",
       "    </tr>\n",
       "    <tr>\n",
       "      <th>4</th>\n",
       "      <td>Milk tea</td>\n",
       "      <td>1</td>\n",
       "    </tr>\n",
       "  </tbody>\n",
       "</table>\n",
       "</div>"
      ],
      "text/plain": [
       "  item_sold  quantity\n",
       "0   Chicken         1\n",
       "1  Iced tea         2\n",
       "2  Milk tea         1\n",
       "3   Chicken         3\n",
       "4  Milk tea         1"
      ]
     },
     "execution_count": 25,
     "metadata": {},
     "output_type": "execute_result"
    }
   ],
   "source": [
    "dataframe"
   ]
  },
  {
   "cell_type": "code",
   "execution_count": 26,
   "id": "7d31451e-1705-43d9-a58f-3274d3fa8543",
   "metadata": {},
   "outputs": [
    {
     "data": {
      "text/plain": [
       "np.int64(2)"
      ]
     },
     "execution_count": 26,
     "metadata": {},
     "output_type": "execute_result"
    }
   ],
   "source": [
    "dataframe[dataframe['item_sold'] == 'Milk tea']['quantity'].sum()"
   ]
  },
  {
   "cell_type": "code",
   "execution_count": null,
   "id": "c36c1c85-77b8-412f-b34e-e9c9f471cb89",
   "metadata": {},
   "outputs": [],
   "source": []
  }
 ],
 "metadata": {
  "kernelspec": {
   "display_name": "Python 3 (ipykernel)",
   "language": "python",
   "name": "python3"
  },
  "language_info": {
   "codemirror_mode": {
    "name": "ipython",
    "version": 3
   },
   "file_extension": ".py",
   "mimetype": "text/x-python",
   "name": "python",
   "nbconvert_exporter": "python",
   "pygments_lexer": "ipython3",
   "version": "3.12.8"
  }
 },
 "nbformat": 4,
 "nbformat_minor": 5
}
