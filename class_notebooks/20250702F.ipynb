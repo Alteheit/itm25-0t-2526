{
 "cells": [
  {
   "cell_type": "code",
   "execution_count": 1,
   "id": "15d8d7ef-5ccc-42d8-8e3a-71075d8c530d",
   "metadata": {},
   "outputs": [
    {
     "data": {
      "text/plain": [
       "[1, 2, 3, 4, 5, 6, 7, 8, 9, 10]"
      ]
     },
     "execution_count": 1,
     "metadata": {},
     "output_type": "execute_result"
    }
   ],
   "source": [
    "my_list = list(range(1, 11))\n",
    "\n",
    "my_list"
   ]
  },
  {
   "cell_type": "code",
   "execution_count": 2,
   "id": "4a66786a-3b3e-4e41-9c8b-05003127224d",
   "metadata": {},
   "outputs": [],
   "source": [
    "new_list = []\n",
    "\n",
    "for i in my_list:\n",
    "    new_i = i * 33\n",
    "    new_list.append(new_i)"
   ]
  },
  {
   "cell_type": "code",
   "execution_count": 3,
   "id": "c6ba26b6-14b5-4eef-958a-853450dd1be6",
   "metadata": {},
   "outputs": [
    {
     "data": {
      "text/plain": [
       "[33, 66, 99, 132, 165, 198, 231, 264, 297, 330]"
      ]
     },
     "execution_count": 3,
     "metadata": {},
     "output_type": "execute_result"
    }
   ],
   "source": [
    "new_list"
   ]
  },
  {
   "cell_type": "code",
   "execution_count": 4,
   "id": "94091e26-e07b-4485-bbb1-b655431d94b4",
   "metadata": {},
   "outputs": [],
   "source": [
    "def shift_letter(letter, shift):\n",
    "    '''Shift Letter. \n",
    "    5 points.\n",
    "    \n",
    "    Shift a letter right by the given number.\n",
    "    Wrap the letter around if it reaches the end of the alphabet.\n",
    "\n",
    "    Examples:\n",
    "    shift_letter(\"A\", 0) -> \"A\"\n",
    "    shift_letter(\"A\", 2) -> \"C\"\n",
    "    shift_letter(\"Z\", 1) -> \"A\"\n",
    "    shift_letter(\"X\", 5) -> \"C\"\n",
    "    shift_letter(\" \", _) -> \" \"\n",
    "\n",
    "    *Note: the single underscore `_` is used to acknowledge the presence\n",
    "        of a value without caring about its contents.\n",
    "\n",
    "    Parameters\n",
    "    ----------\n",
    "    letter: str\n",
    "        a single uppercase English letter, or a space.\n",
    "    shift: int\n",
    "        the number by which to shift the letter. \n",
    "\n",
    "    Returns\n",
    "    -------\n",
    "    str\n",
    "        the letter, shifted appropriately, if a letter.\n",
    "        a single space if the original letter was a space.\n",
    "    '''\n",
    "    # Replace `pass` with your code. \n",
    "    # Stay within the function. Only use the parameters as input. The function should return your answer.\n",
    "    if letter == ' ': return ' '\n",
    "    letter = ord(letter) - ord('A')\n",
    "    letter = letter + shift\n",
    "    letter = letter % 26\n",
    "    return chr(letter + ord('A'))"
   ]
  },
  {
   "cell_type": "code",
   "execution_count": 5,
   "id": "2e920791-4ac2-4c64-9193-c537cd69aa52",
   "metadata": {},
   "outputs": [],
   "source": [
    "message = 'HELLO WORLD'\n",
    "shift = 3\n",
    "\n",
    "new_message = ''\n",
    "\n",
    "for character in message:\n",
    "    new_character = shift_letter(character, shift)\n",
    "    new_message = new_message + new_character"
   ]
  },
  {
   "cell_type": "code",
   "execution_count": 7,
   "id": "d90a4d0c-2842-4eca-97fd-4809ea3213d9",
   "metadata": {},
   "outputs": [
    {
     "data": {
      "text/plain": [
       "'HELLO WORLD'"
      ]
     },
     "execution_count": 7,
     "metadata": {},
     "output_type": "execute_result"
    }
   ],
   "source": [
    "message"
   ]
  },
  {
   "cell_type": "code",
   "execution_count": 6,
   "id": "49dc4468-22a2-4981-b8c3-b8ca081fe99f",
   "metadata": {},
   "outputs": [
    {
     "data": {
      "text/plain": [
       "'KHOOR ZRUOG'"
      ]
     },
     "execution_count": 6,
     "metadata": {},
     "output_type": "execute_result"
    }
   ],
   "source": [
    "new_message"
   ]
  },
  {
   "cell_type": "code",
   "execution_count": 8,
   "id": "1f215a19-27de-479d-b254-8e33711b7f89",
   "metadata": {},
   "outputs": [
    {
     "data": {
      "text/plain": [
       "[1, 2, 3, 4, 5, 6, 7, 8, 9, 10]"
      ]
     },
     "execution_count": 8,
     "metadata": {},
     "output_type": "execute_result"
    }
   ],
   "source": [
    "# Filter\n",
    "\n",
    "my_list = list(range(1, 11))\n",
    "\n",
    "my_list"
   ]
  },
  {
   "cell_type": "code",
   "execution_count": 9,
   "id": "161209ee-c1f5-4006-a196-2d0911004adc",
   "metadata": {},
   "outputs": [],
   "source": [
    "# Retain only the even numbers\n",
    "\n",
    "new_list = []\n",
    "\n",
    "for i in my_list:\n",
    "    if i % 2 == 0:\n",
    "        new_list.append(i)"
   ]
  },
  {
   "cell_type": "code",
   "execution_count": 10,
   "id": "3372438d-84c1-40a0-a696-96ce24353af2",
   "metadata": {},
   "outputs": [
    {
     "data": {
      "text/plain": [
       "[2, 4, 6, 8, 10]"
      ]
     },
     "execution_count": 10,
     "metadata": {},
     "output_type": "execute_result"
    }
   ],
   "source": [
    "new_list"
   ]
  },
  {
   "cell_type": "code",
   "execution_count": 11,
   "id": "54a5ff5f-d586-42a0-885f-cddfc784178e",
   "metadata": {},
   "outputs": [
    {
     "data": {
      "text/plain": [
       "[1, 2, 3, 4, 5, 6, 7, 8, 9, 10]"
      ]
     },
     "execution_count": 11,
     "metadata": {},
     "output_type": "execute_result"
    }
   ],
   "source": [
    "# Aggregation\n",
    "\n",
    "my_list = list(range(1, 11))\n",
    "\n",
    "my_list"
   ]
  },
  {
   "cell_type": "code",
   "execution_count": 12,
   "id": "6774e4c3-cb92-458b-88de-7d4295c24882",
   "metadata": {},
   "outputs": [],
   "source": [
    "# Get the product of all the elements\n",
    "\n",
    "my_product = 1\n",
    "\n",
    "for i in my_list:\n",
    "    my_product = my_product * i"
   ]
  },
  {
   "cell_type": "code",
   "execution_count": 13,
   "id": "4d748558-df2e-4159-acf3-d28c35163c1a",
   "metadata": {},
   "outputs": [
    {
     "data": {
      "text/plain": [
       "3628800"
      ]
     },
     "execution_count": 13,
     "metadata": {},
     "output_type": "execute_result"
    }
   ],
   "source": [
    "my_product"
   ]
  },
  {
   "cell_type": "code",
   "execution_count": 15,
   "id": "53540e7c-13be-47c7-88a8-4d2d5c3e8d45",
   "metadata": {},
   "outputs": [],
   "source": [
    "subtotals = [10.5, 15, 3, 7]\n",
    "\n",
    "# Get the sum of the subtotals (in PESOS) where the amount was big (i.e., greater than 10)\n",
    "my_sum = 0\n",
    "for item in subtotals:\n",
    "    if item <= 10:\n",
    "        continue\n",
    "    peso_amount = item * 60\n",
    "    my_sum = my_sum + peso_amount"
   ]
  },
  {
   "cell_type": "code",
   "execution_count": 16,
   "id": "866b973a-7902-4e9a-b989-f69b8a1d1eae",
   "metadata": {},
   "outputs": [
    {
     "data": {
      "text/plain": [
       "1530.0"
      ]
     },
     "execution_count": 16,
     "metadata": {},
     "output_type": "execute_result"
    }
   ],
   "source": [
    "my_sum"
   ]
  },
  {
   "cell_type": "code",
   "execution_count": 19,
   "id": "bf52cf09-8490-4bba-8656-d8ea8e0d99b1",
   "metadata": {},
   "outputs": [
    {
     "data": {
      "text/plain": [
       "[33, 66, 99, 132, 165, 198, 231, 264, 297, 330]"
      ]
     },
     "execution_count": 19,
     "metadata": {},
     "output_type": "execute_result"
    }
   ],
   "source": [
    "def multiply_by_33(x):\n",
    "    return x * 33\n",
    "\n",
    "my_list = list(range(1, 11))\n",
    "\n",
    "list(map(multiply_by_33, my_list))"
   ]
  },
  {
   "cell_type": "code",
   "execution_count": 20,
   "id": "f813a2ca-26eb-4a4d-bd47-ffdc48171611",
   "metadata": {},
   "outputs": [
    {
     "data": {
      "text/plain": [
       "[33, 66, 99, 132, 165, 198, 231, 264, 297, 330]"
      ]
     },
     "execution_count": 20,
     "metadata": {},
     "output_type": "execute_result"
    }
   ],
   "source": [
    "my_list = list(range(1, 11))\n",
    "\n",
    "new_list = []\n",
    "\n",
    "for i in my_list:\n",
    "    new_i = i * 33\n",
    "    new_list.append(new_i)\n",
    "\n",
    "new_list"
   ]
  },
  {
   "cell_type": "code",
   "execution_count": 24,
   "id": "66fd7ac2-d128-474c-ad85-4c7c9a32de23",
   "metadata": {},
   "outputs": [
    {
     "data": {
      "text/plain": [
       "'<map object at 0x10c0ee0e0>'"
      ]
     },
     "execution_count": 24,
     "metadata": {},
     "output_type": "execute_result"
    }
   ],
   "source": [
    "def make_upper(x):\n",
    "    return x.upper()"
   ]
  },
  {
   "cell_type": "code",
   "execution_count": 26,
   "id": "5da6cdc1-b1b8-4ec5-a2a9-731e7089c7fa",
   "metadata": {},
   "outputs": [
    {
     "ename": "TypeError",
     "evalue": "shift_letter() missing 1 required positional argument: 'shift'",
     "output_type": "error",
     "traceback": [
      "\u001b[0;31m---------------------------------------------------------------------------\u001b[0m",
      "\u001b[0;31mTypeError\u001b[0m                                 Traceback (most recent call last)",
      "Cell \u001b[0;32mIn[26], line 1\u001b[0m\n\u001b[0;32m----> 1\u001b[0m \u001b[38;5;28;43mlist\u001b[39;49m\u001b[43m(\u001b[49m\u001b[38;5;28;43mmap\u001b[39;49m\u001b[43m(\u001b[49m\n\u001b[1;32m      2\u001b[0m \u001b[43m    \u001b[49m\u001b[43mshift_letter\u001b[49m\u001b[43m,\u001b[49m\n\u001b[1;32m      3\u001b[0m \u001b[43m    \u001b[49m\u001b[38;5;124;43m\"\u001b[39;49m\u001b[38;5;124;43mhello world\u001b[39;49m\u001b[38;5;124;43m\"\u001b[39;49m\n\u001b[1;32m      4\u001b[0m \u001b[43m)\u001b[49m\u001b[43m)\u001b[49m\n",
      "\u001b[0;31mTypeError\u001b[0m: shift_letter() missing 1 required positional argument: 'shift'"
     ]
    }
   ],
   "source": [
    "list(map(\n",
    "    shift_letter,\n",
    "    \"hello world\"\n",
    "))"
   ]
  },
  {
   "cell_type": "code",
   "execution_count": 28,
   "id": "e89fb80e-0e27-49f5-afa4-aab5f476190f",
   "metadata": {},
   "outputs": [
    {
     "data": {
      "text/plain": [
       "['K', 'H', 'O', 'O', 'R', ' ', 'Z', 'R', 'U', 'O', 'G']"
      ]
     },
     "execution_count": 28,
     "metadata": {},
     "output_type": "execute_result"
    }
   ],
   "source": [
    "list(map(lambda x: shift_letter(x, 3), \"HELLO WORLD\"))"
   ]
  },
  {
   "cell_type": "code",
   "execution_count": 29,
   "id": "0dd2f300-d420-421f-b406-7ba643b0c438",
   "metadata": {},
   "outputs": [
    {
     "data": {
      "text/plain": [
       "['K', 'H', 'O', 'O', 'R', ' ', 'Z', 'R', 'U', 'O', 'G']"
      ]
     },
     "execution_count": 29,
     "metadata": {},
     "output_type": "execute_result"
    }
   ],
   "source": [
    "def shift_by_3(x):\n",
    "    return shift_letter(x, 3)\n",
    "\n",
    "list(map(shift_by_3, \"HELLO WORLD\"))"
   ]
  },
  {
   "cell_type": "code",
   "execution_count": 30,
   "id": "975c7b9b-5d4c-4c9f-9acd-ee4d438d699e",
   "metadata": {},
   "outputs": [
    {
     "data": {
      "text/plain": [
       "[1, 2, 3, 4, 5, 6, 7, 8, 9, 10]"
      ]
     },
     "execution_count": 30,
     "metadata": {},
     "output_type": "execute_result"
    }
   ],
   "source": [
    "my_list = list(range(1, 11))\n",
    "\n",
    "my_list"
   ]
  },
  {
   "cell_type": "code",
   "execution_count": 31,
   "id": "1e1ae8fe-22d2-4070-a518-0554f59229fc",
   "metadata": {},
   "outputs": [
    {
     "data": {
      "text/plain": [
       "[33, 66, 99, 132, 165, 198, 231, 264, 297, 330]"
      ]
     },
     "execution_count": 31,
     "metadata": {},
     "output_type": "execute_result"
    }
   ],
   "source": [
    "[i * 33 for i in my_list]"
   ]
  },
  {
   "cell_type": "code",
   "execution_count": null,
   "id": "18629ed5-ed7b-4f52-9c2d-730c4fe47d60",
   "metadata": {},
   "outputs": [],
   "source": [
    "t1 = [\n",
    "    ['item_sold', 'quantity'],\n",
    "    ['Chicken', 1]\n",
    "]\n",
    "\n",
    "# Comma-separated values\n",
    "t2 = '''\n",
    "item_sold,quantity\n",
    "Chicken,1\n",
    "'''\n",
    "\n",
    "t3 = [\n",
    "    {'item_sold': 'Chicken', 'quantity': 1},\n",
    "    {'item_sold': 'Milk tea', 'quantity': 2}\n",
    "]\n",
    "\n",
    "t4 = {\n",
    "    'item_sold': ['Chicken', 'Milk tea'],\n",
    "    'quantity': [1, 2],\n",
    "}"
   ]
  },
  {
   "cell_type": "code",
   "execution_count": 33,
   "id": "cf7f0203-fc0d-485b-bfc3-3405316133f4",
   "metadata": {},
   "outputs": [],
   "source": [
    "import csv\n",
    "\n",
    "data = []\n",
    "with open('sqllab_untitled_query_1_20250702T085110.csv') as f:\n",
    "    reader = csv.reader(f)\n",
    "    for row in reader:\n",
    "        data.append(row)"
   ]
  },
  {
   "cell_type": "code",
   "execution_count": 39,
   "id": "76c66254-b1ca-43e5-8194-bf496a76d2da",
   "metadata": {},
   "outputs": [],
   "source": [
    "import pandas as pd\n",
    "\n",
    "df = pd.read_csv('sqllab_untitled_query_1_20250702T085110.csv')\n",
    "\n",
    "df\n",
    "\n",
    "# What is the peso value of all sales by Dell\n",
    "\n",
    "# df = df[df['product_brand'] == 'Dell'][['product_price', 'line_item_quantity']]\n",
    "\n",
    "# (df['product_price'] * 60 * df['line_item_quantity']).sum()\n",
    "\n",
    "is_dell = df['product_brand'] == 'Dell'"
   ]
  },
  {
   "cell_type": "code",
   "execution_count": 40,
   "id": "fbe0f31e-901c-45bf-bd2d-33516505e912",
   "metadata": {},
   "outputs": [
    {
     "data": {
      "text/plain": [
       "0      False\n",
       "1       True\n",
       "2      False\n",
       "3      False\n",
       "4      False\n",
       "       ...  \n",
       "105    False\n",
       "106    False\n",
       "107    False\n",
       "108    False\n",
       "109    False\n",
       "Name: product_brand, Length: 110, dtype: bool"
      ]
     },
     "execution_count": 40,
     "metadata": {},
     "output_type": "execute_result"
    }
   ],
   "source": [
    "is_dell"
   ]
  },
  {
   "cell_type": "code",
   "execution_count": null,
   "id": "fff363d5-8b5a-4636-87d4-e7e236bc80ee",
   "metadata": {},
   "outputs": [],
   "source": []
  }
 ],
 "metadata": {
  "kernelspec": {
   "display_name": "Python 3 (ipykernel)",
   "language": "python",
   "name": "python3"
  },
  "language_info": {
   "codemirror_mode": {
    "name": "ipython",
    "version": 3
   },
   "file_extension": ".py",
   "mimetype": "text/x-python",
   "name": "python",
   "nbconvert_exporter": "python",
   "pygments_lexer": "ipython3",
   "version": "3.12.8"
  }
 },
 "nbformat": 4,
 "nbformat_minor": 5
}
